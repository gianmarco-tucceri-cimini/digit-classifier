{
 "cells": [
  {
   "cell_type": "markdown",
   "metadata": {},
   "source": [
    "**Import Libraries**"
   ]
  },
  {
   "cell_type": "code",
   "execution_count": 1,
   "metadata": {},
   "outputs": [],
   "source": [
    "from sklearn.datasets import load_digits\n",
    "\n",
    "from matplotlib import pyplot as plt\n",
    "\n",
    "from sklearn.model_selection import train_test_split\n",
    "from sklearn.model_selection import cross_val_score\n",
    "from sklearn.model_selection import StratifiedKFold\n",
    "from sklearn.model_selection import RandomizedSearchCV\n",
    "from sklearn.pipeline import Pipeline\n",
    "from sklearn.preprocessing import MinMaxScaler\n",
    "from sklearn.ensemble import RandomForestClassifier\n",
    "from sklearn.metrics import classification_report\n",
    "\n",
    "import joblib\n",
    "\n",
    "import warnings"
   ]
  },
  {
   "cell_type": "markdown",
   "metadata": {},
   "source": [
    "**Define libraries configurations**"
   ]
  },
  {
   "cell_type": "code",
   "execution_count": 2,
   "metadata": {},
   "outputs": [],
   "source": [
    "warnings.filterwarnings(action=\"ignore\")"
   ]
  },
  {
   "cell_type": "markdown",
   "metadata": {},
   "source": [
    "**Define project constant variables**"
   ]
  },
  {
   "cell_type": "code",
   "execution_count": 3,
   "metadata": {},
   "outputs": [],
   "source": [
    "RANDOM_STATE = 42\n",
    "N_JOBS = -1"
   ]
  },
  {
   "cell_type": "markdown",
   "metadata": {},
   "source": [
    "**Load input dataset**"
   ]
  },
  {
   "cell_type": "code",
   "execution_count": 4,
   "metadata": {},
   "outputs": [],
   "source": [
    "X, y = load_digits(return_X_y=True)"
   ]
  },
  {
   "cell_type": "markdown",
   "metadata": {},
   "source": [
    "**Split dataset into training and test sets**"
   ]
  },
  {
   "cell_type": "code",
   "execution_count": 5,
   "metadata": {},
   "outputs": [],
   "source": [
    "X_train, X_test, y_train, y_test = train_test_split(X, y, test_size=0.2, random_state=RANDOM_STATE, stratify=y)"
   ]
  },
  {
   "cell_type": "markdown",
   "metadata": {},
   "source": [
    "**Define base pipeline**"
   ]
  },
  {
   "cell_type": "code",
   "execution_count": 6,
   "metadata": {},
   "outputs": [
    {
     "data": {
      "text/plain": [
       "Pipeline(steps=[('Scaler', MinMaxScaler()),\n",
       "                ('Model',\n",
       "                 RandomForestClassifier(n_jobs=-1, oob_score=True,\n",
       "                                        random_state=42))])"
      ]
     },
     "execution_count": 6,
     "metadata": {},
     "output_type": "execute_result"
    }
   ],
   "source": [
    "base_pipeline = Pipeline(\n",
    "    steps=[\n",
    "        (\"Scaler\", MinMaxScaler()),\n",
    "        (\"Model\", RandomForestClassifier(oob_score=True, n_jobs=N_JOBS, random_state=RANDOM_STATE))\n",
    "    ]\n",
    ")\n",
    "base_pipeline"
   ]
  },
  {
   "cell_type": "markdown",
   "metadata": {},
   "source": [
    "**In a Jupyter environment, please rerun this cell to show the HTML representation or trust the notebook. \n",
    "On GitHub, the HTML representation is unable to render, please try loading this page with nbviewer.org.**"
   ]
  },
  {
   "cell_type": "markdown",
   "metadata": {},
   "source": [
    "**Perform cross validation on pipeline**"
   ]
  },
  {
   "cell_type": "code",
   "execution_count": 7,
   "metadata": {},
   "outputs": [
    {
     "name": "stderr",
     "output_type": "stream",
     "text": [
      "[Parallel(n_jobs=-1)]: Using backend LokyBackend with 8 concurrent workers.\n",
      "[Parallel(n_jobs=-1)]: Done   6 out of  10 | elapsed:    4.0s remaining:    2.7s\n",
      "[Parallel(n_jobs=-1)]: Done  10 out of  10 | elapsed:    4.1s finished\n"
     ]
    },
    {
     "data": {
      "text/plain": [
       "array([0.96527778, 0.98611111, 0.97222222, 0.98611111, 0.97222222,\n",
       "       0.99305556, 0.96527778, 0.97202797, 0.97902098, 0.97902098])"
      ]
     },
     "execution_count": 7,
     "metadata": {},
     "output_type": "execute_result"
    }
   ],
   "source": [
    "skfold = StratifiedKFold(n_splits=10, shuffle=True, random_state=42)\n",
    "\n",
    "base_cv_scores = cross_val_score(estimator=base_pipeline, X=X_train, y=y_train, \n",
    "                                 scoring=\"accuracy\", cv=skfold, n_jobs=N_JOBS, verbose=1)\n",
    "base_cv_scores"
   ]
  },
  {
   "cell_type": "markdown",
   "metadata": {},
   "source": [
    "**Get cross validation results**"
   ]
  },
  {
   "cell_type": "code",
   "execution_count": 8,
   "metadata": {},
   "outputs": [
    {
     "name": "stdout",
     "output_type": "stream",
     "text": [
      "Mean CV accuracy: 0.9770 +/- 0.0088\n"
     ]
    }
   ],
   "source": [
    "print(f\"Mean CV accuracy: {base_cv_scores.mean():.4f} +/- {base_cv_scores.std():.4f}\")"
   ]
  },
  {
   "cell_type": "markdown",
   "metadata": {},
   "source": [
    "**Get pipeline parameters, to use for parameters optimization**"
   ]
  },
  {
   "cell_type": "code",
   "execution_count": 9,
   "metadata": {},
   "outputs": [
    {
     "data": {
      "text/plain": [
       "{'memory': None,\n",
       " 'steps': [('Scaler', MinMaxScaler()),\n",
       "  ('Model',\n",
       "   RandomForestClassifier(n_jobs=-1, oob_score=True, random_state=42))],\n",
       " 'verbose': False,\n",
       " 'Scaler': MinMaxScaler(),\n",
       " 'Model': RandomForestClassifier(n_jobs=-1, oob_score=True, random_state=42),\n",
       " 'Scaler__clip': False,\n",
       " 'Scaler__copy': True,\n",
       " 'Scaler__feature_range': (0, 1),\n",
       " 'Model__bootstrap': True,\n",
       " 'Model__ccp_alpha': 0.0,\n",
       " 'Model__class_weight': None,\n",
       " 'Model__criterion': 'gini',\n",
       " 'Model__max_depth': None,\n",
       " 'Model__max_features': 'auto',\n",
       " 'Model__max_leaf_nodes': None,\n",
       " 'Model__max_samples': None,\n",
       " 'Model__min_impurity_decrease': 0.0,\n",
       " 'Model__min_impurity_split': None,\n",
       " 'Model__min_samples_leaf': 1,\n",
       " 'Model__min_samples_split': 2,\n",
       " 'Model__min_weight_fraction_leaf': 0.0,\n",
       " 'Model__n_estimators': 100,\n",
       " 'Model__n_jobs': -1,\n",
       " 'Model__oob_score': True,\n",
       " 'Model__random_state': 42,\n",
       " 'Model__verbose': 0,\n",
       " 'Model__warm_start': False}"
      ]
     },
     "execution_count": 9,
     "metadata": {},
     "output_type": "execute_result"
    }
   ],
   "source": [
    "base_pipeline.get_params()"
   ]
  },
  {
   "cell_type": "markdown",
   "metadata": {},
   "source": [
    "**Perform parameters optimization with random search**"
   ]
  },
  {
   "cell_type": "code",
   "execution_count": 10,
   "metadata": {},
   "outputs": [
    {
     "name": "stdout",
     "output_type": "stream",
     "text": [
      "Fitting 10 folds for each of 20 candidates, totalling 200 fits\n"
     ]
    },
    {
     "data": {
      "text/plain": [
       "RandomizedSearchCV(cv=StratifiedKFold(n_splits=10, random_state=42, shuffle=True),\n",
       "                   estimator=Pipeline(steps=[('Scaler', MinMaxScaler()),\n",
       "                                             ('Model',\n",
       "                                              RandomForestClassifier(n_jobs=-1,\n",
       "                                                                     oob_score=True,\n",
       "                                                                     random_state=42))]),\n",
       "                   n_iter=20, n_jobs=-1,\n",
       "                   param_distributions={'Model__class_weight': [None,\n",
       "                                                                'balanced',\n",
       "                                                                'balanced_subsample'],\n",
       "                                        'Model__criterion': ['gini', 'entropy'],\n",
       "                                        'Model__max_depth': [None, 1, 2, 5, 10,\n",
       "                                                             20],\n",
       "                                        'Model__max_features': ['sqrt', 'log2'],\n",
       "                                        'Model__n_estimators': [25, 50, 100,\n",
       "                                                                200, 250,\n",
       "                                                                500]},\n",
       "                   random_state=42, scoring='accuracy', verbose=1)"
      ]
     },
     "execution_count": 10,
     "metadata": {},
     "output_type": "execute_result"
    }
   ],
   "source": [
    "params = {\n",
    "    \"Model__n_estimators\": [25, 50, 100, 200, 250, 500],\n",
    "    \"Model__criterion\": [\"gini\", \"entropy\"],\n",
    "    \"Model__max_depth\": [None, 1, 2, 5, 10, 20],\n",
    "    \"Model__max_features\": [\"sqrt\", \"log2\"],\n",
    "    \"Model__class_weight\": [None, \"balanced\", \"balanced_subsample\"]\n",
    "}\n",
    "\n",
    "random_search = RandomizedSearchCV(estimator=base_pipeline, param_distributions=params, n_iter=20, \n",
    "                                   scoring=\"accuracy\", n_jobs=N_JOBS, cv=skfold, verbose=1, random_state=RANDOM_STATE)\n",
    "random_search.fit(X=X_train, y=y_train)"
   ]
  },
  {
   "cell_type": "markdown",
   "metadata": {},
   "source": [
    "**Get random search best parameters and validation scores**"
   ]
  },
  {
   "cell_type": "code",
   "execution_count": 11,
   "metadata": {},
   "outputs": [
    {
     "data": {
      "text/plain": [
       "{'Model__n_estimators': 500,\n",
       " 'Model__max_features': 'log2',\n",
       " 'Model__max_depth': 10,\n",
       " 'Model__criterion': 'entropy',\n",
       " 'Model__class_weight': 'balanced'}"
      ]
     },
     "execution_count": 11,
     "metadata": {},
     "output_type": "execute_result"
    }
   ],
   "source": [
    "random_search.best_params_"
   ]
  },
  {
   "cell_type": "code",
   "execution_count": 12,
   "metadata": {},
   "outputs": [
    {
     "data": {
      "text/plain": [
       "0.9791229603729604"
      ]
     },
     "execution_count": 12,
     "metadata": {},
     "output_type": "execute_result"
    }
   ],
   "source": [
    "random_search.best_score_"
   ]
  },
  {
   "cell_type": "markdown",
   "metadata": {},
   "source": [
    "**Define pipeline with the best parameters**"
   ]
  },
  {
   "cell_type": "code",
   "execution_count": 13,
   "metadata": {},
   "outputs": [
    {
     "data": {
      "text/plain": [
       "Pipeline(steps=[('Scaler', MinMaxScaler()),\n",
       "                ('Model',\n",
       "                 RandomForestClassifier(max_features='log2', n_estimators=200,\n",
       "                                        n_jobs=-1, oob_score=True,\n",
       "                                        random_state=42))])"
      ]
     },
     "execution_count": 13,
     "metadata": {},
     "output_type": "execute_result"
    }
   ],
   "source": [
    "best_pipeline = Pipeline(\n",
    "    steps=[\n",
    "        (\"Scaler\", MinMaxScaler()),\n",
    "        (\"Model\", RandomForestClassifier(n_estimators=200, max_features=\"log2\", oob_score=True, n_jobs=N_JOBS, random_state=RANDOM_STATE))\n",
    "    ]\n",
    ")\n",
    "best_pipeline.fit(X=X_train, y=y_train)"
   ]
  },
  {
   "cell_type": "markdown",
   "metadata": {},
   "source": [
    "**Perform cross validation on new pipeline**"
   ]
  },
  {
   "cell_type": "code",
   "execution_count": 14,
   "metadata": {},
   "outputs": [
    {
     "name": "stderr",
     "output_type": "stream",
     "text": [
      "[Parallel(n_jobs=-1)]: Using backend LokyBackend with 8 concurrent workers.\n",
      "[Parallel(n_jobs=-1)]: Done   6 out of  10 | elapsed:    0.8s remaining:    0.5s\n",
      "[Parallel(n_jobs=-1)]: Done  10 out of  10 | elapsed:    1.1s finished\n"
     ]
    },
    {
     "data": {
      "text/plain": [
       "array([0.95833333, 0.99305556, 0.97916667, 0.97916667, 0.97222222,\n",
       "       0.99305556, 0.95833333, 0.97902098, 0.97902098, 0.98601399])"
      ]
     },
     "execution_count": 14,
     "metadata": {},
     "output_type": "execute_result"
    }
   ],
   "source": [
    "best_cv_scores = cross_val_score(estimator=best_pipeline, X=X_train, y=y_train, \n",
    "                                 scoring=\"accuracy\", cv=skfold, n_jobs=N_JOBS, verbose=1)\n",
    "best_cv_scores"
   ]
  },
  {
   "cell_type": "markdown",
   "metadata": {},
   "source": [
    "**Get cross validation results**"
   ]
  },
  {
   "cell_type": "code",
   "execution_count": 15,
   "metadata": {},
   "outputs": [
    {
     "name": "stdout",
     "output_type": "stream",
     "text": [
      "Mean CV accuracy: 0.9777 +/- 0.0115\n"
     ]
    }
   ],
   "source": [
    "print(f\"Mean CV accuracy: {best_cv_scores.mean():.4f} +/- {best_cv_scores.std():.4f}\")"
   ]
  },
  {
   "cell_type": "code",
   "execution_count": 16,
   "metadata": {},
   "outputs": [
    {
     "data": {
      "image/png": "[encoded data removed]",
      "text/plain": [
       "<Figure size 432x288 with 1 Axes>"
      ]
     },
     "metadata": {
      "needs_background": "light"
     },
     "output_type": "display_data"
    }
   ],
   "source": [
    "plt.figure(figsize=(6, 4))\n",
    "plt.title(\"CV model scores\")\n",
    "plt.plot(base_cv_scores, marker=\"o\")\n",
    "plt.plot(best_cv_scores, marker=\"o\")\n",
    "plt.xticks(ticks=range(1, 11))\n",
    "plt.xlabel(\"fold\")\n",
    "plt.ylabel(\"accuracy\")\n",
    "plt.legend([\"Base model\", \"Best model\"])\n",
    "plt.tight_layout()\n",
    "plt.grid()\n",
    "plt.show()"
   ]
  },
  {
   "cell_type": "markdown",
   "metadata": {},
   "source": [
    "**Compute pipeline predictions on test set**"
   ]
  },
  {
   "cell_type": "code",
   "execution_count": 17,
   "metadata": {},
   "outputs": [],
   "source": [
    "y_pred = best_pipeline.predict(X=X_test)"
   ]
  },
  {
   "cell_type": "markdown",
   "metadata": {},
   "source": [
    "**Compute classification metrics on test set**"
   ]
  },
  {
   "cell_type": "code",
   "execution_count": 18,
   "metadata": {},
   "outputs": [
    {
     "name": "stdout",
     "output_type": "stream",
     "text": [
      "              precision    recall  f1-score   support\n",
      "\n",
      "           0       1.00      0.97      0.99        36\n",
      "           1       0.92      1.00      0.96        36\n",
      "           2       1.00      1.00      1.00        35\n",
      "           3       0.97      1.00      0.99        37\n",
      "           4       0.97      1.00      0.99        36\n",
      "           5       1.00      1.00      1.00        37\n",
      "           6       1.00      0.97      0.99        36\n",
      "           7       0.95      1.00      0.97        36\n",
      "           8       0.94      0.89      0.91        35\n",
      "           9       1.00      0.92      0.96        36\n",
      "\n",
      "    accuracy                           0.97       360\n",
      "   macro avg       0.98      0.97      0.97       360\n",
      "weighted avg       0.98      0.97      0.97       360\n",
      "\n"
     ]
    }
   ],
   "source": [
    "report = classification_report(y_true=y_test, y_pred=y_pred)\n",
    "print(report)"
   ]
  },
  {
   "cell_type": "markdown",
   "metadata": {},
   "source": [
    "**Serialize best fitted pipeline**"
   ]
  },
  {
   "cell_type": "code",
   "execution_count": 19,
   "metadata": {},
   "outputs": [
    {
     "data": {
      "text/plain": [
       "['models/digit_model.joblib']"
      ]
     },
     "execution_count": 19,
     "metadata": {},
     "output_type": "execute_result"
    }
   ],
   "source": [
    "joblib.dump(value=best_pipeline, filename=\"models/digit_model.joblib\")"
   ]
  }
 ],
 "metadata": {
  "kernelspec": {
   "display_name": "Python 3.8.8 ('base')",
   "language": "python",
   "name": "python3"
  },
  "language_info": {
   "codemirror_mode": {
    "name": "ipython",
    "version": 3
   },
   "file_extension": ".py",
   "mimetype": "text/x-python",
   "name": "python",
   "nbconvert_exporter": "python",
   "pygments_lexer": "ipython3",
   "version": "3.8.8"
  },
  "orig_nbformat": 4,
  "vscode": {
   "interpreter": {
    "hash": "40d3a090f54c6569ab1632332b64b2c03c39dcf918b08424e98f38b5ae0af88f"
   }
  }
 },
 "nbformat": 4,
 "nbformat_minor": 2
}
